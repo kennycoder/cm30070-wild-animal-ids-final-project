{
 "cells": [
  {
   "cell_type": "code",
   "execution_count": null,
   "id": "7a8b4532-932a-44bd-980d-6bf95a469989",
   "metadata": {},
   "outputs": [],
   "source": [
    "!pip install ultralytics Pillow matplotlib numpy"
   ]
  },
  {
   "cell_type": "code",
   "execution_count": null,
   "id": "b2dee288-2fcd-4683-8d51-3457accd8235",
   "metadata": {},
   "outputs": [],
   "source": [
    "from ultralytics import YOLO\n",
    "from PIL import Image\n",
    "import matplotlib.pyplot as plt\n",
    "import numpy as np\n",
    "import os\n",
    "\n",
    "# Load the YOLOv11 model\n",
    "model = YOLO('yolo11n-cls.pt')  # You can change this to any YOLOv11 model variant\n",
    "\n",
    "# Function to load and preprocess the image\n",
    "def load_image(image_path):\n",
    "    \"\"\"\n",
    "    Loads an image from the given path and preprocesses it for YOLOv11.\n",
    "\n",
    "    Args:\n",
    "        image_path (str): The path to the image file.\n",
    "\n",
    "    Returns:\n",
    "        PIL.Image.Image: The loaded and preprocessed image.\n",
    "    \"\"\"\n",
    "    image = Image.open(image_path)\n",
    "    return image\n",
    "\n",
    "# Function to draw bounding boxes on the image\n",
    "def draw_boxes(image, results):\n",
    "    \"\"\"\n",
    "    Draws bounding boxes on the image based on the YOLOv11 results.\n",
    "\n",
    "    Args:\n",
    "        image (PIL.Image.Image): The image to draw boxes on.\n",
    "        results (ultralytics.engine.results.Results): The YOLOv11 results object.\n",
    "    \"\"\"\n",
    "    plt.imshow(np.array(image))\n",
    "    ax = plt.gca()\n",
    "    for r in results:\n",
    "        for box in r.boxes:\n",
    "            x1, y1, x2, y2 = box.xyxy[0]\n",
    "            cls = int(box.cls[0])\n",
    "            conf = box.conf[0]\n",
    "            label = f'{model.names[cls]} {conf:.2f}'\n",
    "            ax.add_patch(plt.Rectangle((x1, y1), x2 - x1, y2 - y1, fill=False, color='red', linewidth=2))\n",
    "            ax.text(x1, y1, label, fontsize=12, bbox=dict(facecolor='yellow', alpha=0.5))\n",
    "    plt.axis('off')\n",
    "    plt.show()\n",
    "\n",
    "# Load and preprocess the image\n",
    "image = load_image(\"night-tiger.jpg\")\n",
    "\n",
    "# Run YOLOv11 inference\n",
    "results = model.predict(image)\n",
    "\n",
    "for result in results:\n",
    "    probs = result.probs  # Access the probabilities of each class\n",
    "    top_class = probs.top1  # Get the index of the top predicted class\n",
    "    top_label = model.names[top_class]  # Get the label of the top predicted class\n",
    "    confidence = probs.top1conf  # Get the confidence score of the top predicted class\n",
    "\n",
    "    print(f\"Predicted Label: {top_label}, Confidence: {confidence:.2f}\") "
   ]
  }
 ],
 "metadata": {
  "kernelspec": {
   "display_name": "Python 3 (ipykernel)",
   "language": "python",
   "name": "python3"
  },
  "language_info": {
   "codemirror_mode": {
    "name": "ipython",
    "version": 3
   },
   "file_extension": ".py",
   "mimetype": "text/x-python",
   "name": "python",
   "nbconvert_exporter": "python",
   "pygments_lexer": "ipython3",
   "version": "3.11.10"
  }
 },
 "nbformat": 4,
 "nbformat_minor": 5
}
