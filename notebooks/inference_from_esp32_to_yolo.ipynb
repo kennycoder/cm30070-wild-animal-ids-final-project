{
 "cells": [
  {
   "cell_type": "code",
   "execution_count": null,
   "id": "7a8b4532-932a-44bd-980d-6bf95a469989",
   "metadata": {},
   "outputs": [],
   "source": [
    "!pip install ultralytics Pillow matplotlib numpy"
   ]
  },
  {
   "cell_type": "code",
   "execution_count": null,
   "id": "b2dee288-2fcd-4683-8d51-3457accd8235",
   "metadata": {},
   "outputs": [],
   "source": [
    "from ultralytics import YOLO\n",
    "from PIL import Image\n",
    "import matplotlib.pyplot as plt\n",
    "import numpy as np\n",
    "import os\n",
    "\n",
    "# Load the YOLOv11 model\n",
    "model = YOLO('model_inputs/yolo11x-cls.pt')  # You can change this to any YOLOv11 model variant\n",
    "\n"
   ]
  },
  {
   "cell_type": "code",
   "execution_count": null,
   "id": "2aa5b1a4-e8be-4920-b14d-cd7f05d72a2f",
   "metadata": {},
   "outputs": [],
   "source": [
    "import urllib.request\n",
    "import uuid\n",
    "from IPython.display import display\n",
    "\n",
    "# Function to load and preprocess the image\n",
    "def load_local_image(image_path):\n",
    "    \"\"\"\n",
    "    Loads an image from the given path\n",
    "\n",
    "    Args:\n",
    "        image_path (str): The path to the image file.\n",
    "\n",
    "    Returns:\n",
    "        PIL.Image.Image: The loaded and preprocessed image.\n",
    "    \"\"\"\n",
    "    image = Image.open(image_path)\n",
    "    return image\n",
    "\n",
    "# Function to load and preprocess the image\n",
    "def load_remote_image(image_url):\n",
    "    \"\"\"\n",
    "    Loads an image from the given URL\n",
    "\n",
    "    Args:\n",
    "        image_url (str): The url path to the image file.\n",
    "\n",
    "    Returns:\n",
    "        PIL.Image.Image: The loaded and preprocessed image.\n",
    "    \"\"\"\n",
    "    filename = str(uuid.uuid4()) + \".jpg\"\n",
    "    urllib.request.urlretrieve(image_url, \"captures/\" + filename)\n",
    "    return load_local_image(\"captures/\" + filename)\n"
   ]
  },
  {
   "cell_type": "code",
   "execution_count": null,
   "id": "bd742517-36e7-42ee-8dfe-8a33da29e3fc",
   "metadata": {},
   "outputs": [],
   "source": [
    "# Load and preprocess the image\n",
    "image = load_remote_image(\"http://192.168.50.114/capture\")\n",
    "\n",
    "display(image)\n",
    "\n"
   ]
  },
  {
   "cell_type": "code",
   "execution_count": null,
   "id": "34b7798d-27d5-4481-a9f9-98097660a3a9",
   "metadata": {},
   "outputs": [],
   "source": [
    "# Run YOLOv11 inference\n",
    "results = model.predict(image)\n",
    "\n",
    "for result in results:\n",
    "    probs = result.probs  # Access the probabilities of each class\n",
    "    top_class = probs.top1  # Get the index of the top predicted class\n",
    "    top_label = model.names[top_class]  # Get the label of the top predicted class\n",
    "    confidence = probs.top1conf  # Get the confidence score of the top predicted class\n",
    "\n",
    "    print(f\"Predicted Label: {top_label}, Confidence: {confidence:.2f}\") "
   ]
  }
 ],
 "metadata": {
  "kernelspec": {
   "display_name": "Python 3 (ipykernel)",
   "language": "python",
   "name": "python3"
  },
  "language_info": {
   "codemirror_mode": {
    "name": "ipython",
    "version": 3
   },
   "file_extension": ".py",
   "mimetype": "text/x-python",
   "name": "python",
   "nbconvert_exporter": "python",
   "pygments_lexer": "ipython3",
   "version": "3.11.10"
  }
 },
 "nbformat": 4,
 "nbformat_minor": 5
}
